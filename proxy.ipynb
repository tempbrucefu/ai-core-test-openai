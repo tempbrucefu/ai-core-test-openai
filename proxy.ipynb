{
 "cells": [
  {
   "cell_type": "markdown",
   "metadata": {},
   "source": [
    "### Install AI Core Python SDK"
   ]
  },
  {
   "cell_type": "code",
   "execution_count": null,
   "metadata": {
    "scrolled": true
   },
   "outputs": [],
   "source": [
    "!pip install ai-core-sdk"
   ]
  },
  {
   "cell_type": "code",
   "execution_count": 1,
   "metadata": {},
   "outputs": [],
   "source": [
    "import json\n",
    "import requests\n",
    "import time\n",
    "import yaml\n",
    "from IPython.display import clear_output\n",
    "from pprint import pprint\n",
    "\n",
    "from ai_core_sdk.models import ParameterBinding, Status"
   ]
  },
  {
   "cell_type": "code",
   "execution_count": 3,
   "metadata": {},
   "outputs": [],
   "source": [
    "# Setup\n",
    "aic_service_key_path = \"./resources/aic_service_key.json\"\n",
    "git_setup_file_path = \"./resources/git_setup.json\"\n",
    "docker_secret_file_path = \"./resources/docker_secret.json\"\n",
    "env_file_path = \"./resources/env.json\""
   ]
  },
  {
   "cell_type": "markdown",
   "metadata": {},
   "source": [
    "### 1. Connect to your AI Core instance"
   ]
  },
  {
   "cell_type": "code",
   "execution_count": 4,
   "metadata": {},
   "outputs": [],
   "source": [
    "# Load Library\n",
    "with open(aic_service_key_path) as ask:\n",
    "    aic_service_key = json.load(ask)\n",
    "\n",
    "from ai_core_sdk.ai_core_v2_client import AICoreV2Client\n",
    "\n",
    "# Create Connection\n",
    "ai_core_client = AICoreV2Client(\n",
    "    base_url = aic_service_key[\"serviceurls\"][\"AI_API_URL\"] + \"/v2\", # The present AI API version is 2\n",
    "    auth_url=  aic_service_key[\"url\"] + \"/oauth/token\",\n",
    "    client_id = aic_service_key[\"clientid\"],\n",
    "    client_secret = aic_service_key[\"clientsecret\"]\n",
    ")"
   ]
  },
  {
   "attachments": {},
   "cell_type": "markdown",
   "metadata": {},
   "source": [
    "*Returns no output*"
   ]
  },
  {
   "cell_type": "markdown",
   "metadata": {},
   "source": [
    "### 2. Test connection"
   ]
  },
  {
   "cell_type": "code",
   "execution_count": 5,
   "metadata": {},
   "outputs": [
    {
     "name": "stdout",
     "output_type": "stream",
     "text": [
      "2\n"
     ]
    }
   ],
   "source": [
    "response = ai_core_client.repositories.query()\n",
    "print(response.count) # Should return integer value else your values in above step are incorrect"
   ]
  },
  {
   "cell_type": "markdown",
   "metadata": {},
   "source": [
    "### 2. Onboard the Git repository that contains the templates"
   ]
  },
  {
   "cell_type": "code",
   "execution_count": 6,
   "metadata": {},
   "outputs": [
    {
     "ename": "AIAPIServerException",
     "evalue": "Failed to post /admin/repositories: Repository is already onboarded \n Status Code: 409, Request ID:None",
     "output_type": "error",
     "traceback": [
      "\u001b[1;31m---------------------------------------------------------------------------\u001b[0m",
      "\u001b[1;31mAIAPIServerException\u001b[0m                      Traceback (most recent call last)",
      "\u001b[1;32mc:\\SAPDevelop\\ml\\ai-core-test\\proxy.ipynb Cell 11\u001b[0m line \u001b[0;36m1\n\u001b[0;32m      <a href='vscode-notebook-cell:/c%3A/SAPDevelop/ml/ai-core-test/proxy.ipynb#X13sZmlsZQ%3D%3D?line=4'>5</a>\u001b[0m \t\tgit_key \u001b[39m=\u001b[39m json\u001b[39m.\u001b[39mload(gs)\n\u001b[0;32m      <a href='vscode-notebook-cell:/c%3A/SAPDevelop/ml/ai-core-test/proxy.ipynb#X13sZmlsZQ%3D%3D?line=6'>7</a>\u001b[0m \u001b[39m# ai_core_client.repositories.create(\u001b[39;00m\n\u001b[0;32m      <a href='vscode-notebook-cell:/c%3A/SAPDevelop/ml/ai-core-test/proxy.ipynb#X13sZmlsZQ%3D%3D?line=7'>8</a>\u001b[0m \u001b[39m#     name = \"azure-openai-aicore\",\u001b[39;00m\n\u001b[0;32m      <a href='vscode-notebook-cell:/c%3A/SAPDevelop/ml/ai-core-test/proxy.ipynb#X13sZmlsZQ%3D%3D?line=8'>9</a>\u001b[0m \u001b[39m#     url = f\"https://github.com/{git_key['username']}/azure-openai-aicore-cap-api\", # Forked repo\u001b[39;00m\n\u001b[0;32m     <a href='vscode-notebook-cell:/c%3A/SAPDevelop/ml/ai-core-test/proxy.ipynb#X13sZmlsZQ%3D%3D?line=9'>10</a>\u001b[0m \u001b[39m#     username = git_key[\"username\"],\u001b[39;00m\n\u001b[0;32m     <a href='vscode-notebook-cell:/c%3A/SAPDevelop/ml/ai-core-test/proxy.ipynb#X13sZmlsZQ%3D%3D?line=10'>11</a>\u001b[0m \u001b[39m#     password = git_key[\"password\"]\u001b[39;00m\n\u001b[0;32m     <a href='vscode-notebook-cell:/c%3A/SAPDevelop/ml/ai-core-test/proxy.ipynb#X13sZmlsZQ%3D%3D?line=11'>12</a>\u001b[0m \u001b[39m# )\u001b[39;00m\n\u001b[1;32m---> <a href='vscode-notebook-cell:/c%3A/SAPDevelop/ml/ai-core-test/proxy.ipynb#X13sZmlsZQ%3D%3D?line=12'>13</a>\u001b[0m ai_core_client\u001b[39m.\u001b[39;49mrepositories\u001b[39m.\u001b[39;49mcreate(\n\u001b[0;32m     <a href='vscode-notebook-cell:/c%3A/SAPDevelop/ml/ai-core-test/proxy.ipynb#X13sZmlsZQ%3D%3D?line=13'>14</a>\u001b[0m     name \u001b[39m=\u001b[39;49m \u001b[39m\"\u001b[39;49m\u001b[39mai-core-test-openai\u001b[39;49m\u001b[39m\"\u001b[39;49m,\n\u001b[0;32m     <a href='vscode-notebook-cell:/c%3A/SAPDevelop/ml/ai-core-test/proxy.ipynb#X13sZmlsZQ%3D%3D?line=14'>15</a>\u001b[0m     url \u001b[39m=\u001b[39;49m \u001b[39mf\u001b[39;49m\u001b[39m\"\u001b[39;49m\u001b[39mhttps://github.wdf.sap.corp/i310472/ai-core-test\u001b[39;49m\u001b[39m\"\u001b[39;49m, \u001b[39m# Forked repo\u001b[39;49;00m\n\u001b[0;32m     <a href='vscode-notebook-cell:/c%3A/SAPDevelop/ml/ai-core-test/proxy.ipynb#X13sZmlsZQ%3D%3D?line=15'>16</a>\u001b[0m     username \u001b[39m=\u001b[39;49m git_key[\u001b[39m\"\u001b[39;49m\u001b[39musername\u001b[39;49m\u001b[39m\"\u001b[39;49m],\n\u001b[0;32m     <a href='vscode-notebook-cell:/c%3A/SAPDevelop/ml/ai-core-test/proxy.ipynb#X13sZmlsZQ%3D%3D?line=16'>17</a>\u001b[0m     password \u001b[39m=\u001b[39;49m git_key[\u001b[39m\"\u001b[39;49m\u001b[39mpassword\u001b[39;49m\u001b[39m\"\u001b[39;49m]\n\u001b[0;32m     <a href='vscode-notebook-cell:/c%3A/SAPDevelop/ml/ai-core-test/proxy.ipynb#X13sZmlsZQ%3D%3D?line=17'>18</a>\u001b[0m )\n",
      "File \u001b[1;32mc:\\Users\\I310472\\AppData\\Local\\Programs\\Python\\Python310\\lib\\site-packages\\ai_core_sdk\\resource_clients\\repositories_client.py:38\u001b[0m, in \u001b[0;36mRepositoriesClient.create\u001b[1;34m(self, name, url, username, password)\u001b[0m\n\u001b[0;32m     16\u001b[0m \u001b[39m\u001b[39m\u001b[39m\"\"\"On-boards a new GitOps repository\u001b[39;00m\n\u001b[0;32m     17\u001b[0m \n\u001b[0;32m     18\u001b[0m \u001b[39m:param name: name of the GitOps repository\u001b[39;00m\n\u001b[1;32m   (...)\u001b[0m\n\u001b[0;32m     35\u001b[0m \u001b[39m:rtype: class:`ai_core_sdk.models.base_models.BasicNameResponse`\u001b[39;00m\n\u001b[0;32m     36\u001b[0m \u001b[39m\"\"\"\u001b[39;00m\n\u001b[0;32m     37\u001b[0m body \u001b[39m=\u001b[39m {\u001b[39m'\u001b[39m\u001b[39mname\u001b[39m\u001b[39m'\u001b[39m: name, \u001b[39m'\u001b[39m\u001b[39murl\u001b[39m\u001b[39m'\u001b[39m: url, \u001b[39m'\u001b[39m\u001b[39musername\u001b[39m\u001b[39m'\u001b[39m: username, \u001b[39m'\u001b[39m\u001b[39mpassword\u001b[39m\u001b[39m'\u001b[39m: password}\n\u001b[1;32m---> 38\u001b[0m response_dict \u001b[39m=\u001b[39m \u001b[39mself\u001b[39;49m\u001b[39m.\u001b[39;49mrest_client\u001b[39m.\u001b[39;49mpost(path\u001b[39m=\u001b[39;49m\u001b[39mself\u001b[39;49m\u001b[39m.\u001b[39;49m__PATH, body\u001b[39m=\u001b[39;49mbody)\n\u001b[0;32m     39\u001b[0m \u001b[39mreturn\u001b[39;00m Message\u001b[39m.\u001b[39mfrom_dict(response_dict)\n",
      "File \u001b[1;32mc:\\Users\\I310472\\AppData\\Local\\Programs\\Python\\Python310\\lib\\site-packages\\ai_api_client_sdk\\helpers\\rest_client.py:146\u001b[0m, in \u001b[0;36mRestClient.post\u001b[1;34m(self, path, body, headers, resource_group)\u001b[0m\n\u001b[0;32m    118\u001b[0m \u001b[39mdef\u001b[39;00m \u001b[39mpost\u001b[39m(\u001b[39mself\u001b[39m, path: \u001b[39mstr\u001b[39m, body: Dict[\u001b[39mstr\u001b[39m, Union[\u001b[39mstr\u001b[39m, \u001b[39mdict\u001b[39m]] \u001b[39m=\u001b[39m \u001b[39mNone\u001b[39;00m, headers: Dict[\u001b[39mstr\u001b[39m, \u001b[39mstr\u001b[39m] \u001b[39m=\u001b[39m \u001b[39mNone\u001b[39;00m,\n\u001b[0;32m    119\u001b[0m          resource_group: \u001b[39mstr\u001b[39m \u001b[39m=\u001b[39m \u001b[39mNone\u001b[39;00m) \u001b[39m-\u001b[39m\u001b[39m>\u001b[39m \u001b[39mdict\u001b[39m:\n\u001b[0;32m    120\u001b[0m \u001b[39m    \u001b[39m\u001b[39m\"\"\"Sends a POST request to the server.\u001b[39;00m\n\u001b[0;32m    121\u001b[0m \n\u001b[0;32m    122\u001b[0m \u001b[39m    :param path: path of the endpoint the request should be sent to\u001b[39;00m\n\u001b[1;32m   (...)\u001b[0m\n\u001b[0;32m    144\u001b[0m \u001b[39m    :rtype: dict\u001b[39;00m\n\u001b[0;32m    145\u001b[0m \u001b[39m    \"\"\"\u001b[39;00m\n\u001b[1;32m--> 146\u001b[0m     \u001b[39mreturn\u001b[39;00m \u001b[39mself\u001b[39;49m\u001b[39m.\u001b[39;49m_handle_request(\u001b[39m'\u001b[39;49m\u001b[39mpost\u001b[39;49m\u001b[39m'\u001b[39;49m, path\u001b[39m=\u001b[39;49mpath, body_json\u001b[39m=\u001b[39;49mbody, headers\u001b[39m=\u001b[39;49mheaders, resource_group\u001b[39m=\u001b[39;49mresource_group)\n",
      "File \u001b[1;32mc:\\Users\\I310472\\AppData\\Local\\Programs\\Python\\Python310\\lib\\site-packages\\ai_api_client_sdk\\helpers\\rest_client.py:110\u001b[0m, in \u001b[0;36mRestClient._handle_request\u001b[1;34m(self, method, path, params, body_json, headers, resource_group)\u001b[0m\n\u001b[0;32m    106\u001b[0m         \u001b[39mraise\u001b[39;00m AIAPIPreconditionFailedException(description\u001b[39m=\u001b[39merror_description, error_message\u001b[39m=\u001b[39merror_message,\n\u001b[0;32m    107\u001b[0m                                                error_code\u001b[39m=\u001b[39merror_code, request_id\u001b[39m=\u001b[39mrequest_id,\n\u001b[0;32m    108\u001b[0m                                                details\u001b[39m=\u001b[39merror_details)\n\u001b[0;32m    109\u001b[0m     \u001b[39melse\u001b[39;00m:\n\u001b[1;32m--> 110\u001b[0m         \u001b[39mraise\u001b[39;00m AIAPIServerException(status_code\u001b[39m=\u001b[39mstatus_code, description\u001b[39m=\u001b[39merror_description,\n\u001b[0;32m    111\u001b[0m                                    error_message\u001b[39m=\u001b[39merror_message, error_code\u001b[39m=\u001b[39merror_code, request_id\u001b[39m=\u001b[39mrequest_id,\n\u001b[0;32m    112\u001b[0m                                    details\u001b[39m=\u001b[39merror_details)\n\u001b[0;32m    113\u001b[0m \u001b[39melif\u001b[39;00m response\u001b[39m.\u001b[39mstatus_code \u001b[39m/\u001b[39m\u001b[39m/\u001b[39m \u001b[39m100\u001b[39m \u001b[39m!=\u001b[39m \u001b[39m2\u001b[39m:\n\u001b[0;32m    114\u001b[0m     \u001b[39mraise\u001b[39;00m AIAPIServerException(description\u001b[39m=\u001b[39merror_description, error_message\u001b[39m=\u001b[39mresponse\u001b[39m.\u001b[39mtext,\n\u001b[0;32m    115\u001b[0m                                status_code\u001b[39m=\u001b[39mresponse\u001b[39m.\u001b[39mstatus_code)\n",
      "\u001b[1;31mAIAPIServerException\u001b[0m: Failed to post /admin/repositories: Repository is already onboarded \n Status Code: 409, Request ID:None"
     ]
    }
   ],
   "source": [
    "# WARNING: Refrain from onboarding again if previously onboarded\n",
    "#  else you will get AIAPIServerException 409\n",
    "\n",
    "with open(git_setup_file_path) as gs:\n",
    "\t\tgit_key = json.load(gs)\n",
    "\n",
    "# ai_core_client.repositories.create(\n",
    "#     name = \"azure-openai-aicore\",\n",
    "#     url = f\"https://github.com/{git_key['username']}/azure-openai-aicore-cap-api\", # Forked repo\n",
    "#     username = git_key[\"username\"],\n",
    "#     password = git_key[\"password\"]\n",
    "# )\n",
    "ai_core_client.repositories.create(\n",
    "    name = \"ai-core-test-openai\",\n",
    "    url = f\"https://github.wdf.sap.corp/i310472/ai-core-test\", # Forked repo\n",
    "    username = git_key[\"username\"],\n",
    "    password = git_key[\"password\"]\n",
    ")"
   ]
  },
  {
   "cell_type": "code",
   "execution_count": 7,
   "metadata": {
    "scrolled": true
   },
   "outputs": [
    {
     "name": "stdout",
     "output_type": "stream",
     "text": [
      "Name: ai-core-test-openai\n",
      "URL: https://github.wdf.sap.corp/i310472/ai-core-test\n",
      "Status: RepositoryStatus.COMPLETED\n",
      "Name: ai-core-llm-poc\n",
      "URL: git@github.wdf.sap.corp:vis/ai-core-llm-poc.git\n",
      "Status: RepositoryStatus.COMPLETED\n"
     ]
    }
   ],
   "source": [
    "# Check onboarded repositories\n",
    "response = ai_core_client.repositories.query()\n",
    "#\n",
    "for repository in response.resources:\n",
    "    print('Name:', repository.name)\n",
    "    print('URL:', repository.url)\n",
    "    print('Status:', repository.status)\n"
   ]
  },
  {
   "cell_type": "markdown",
   "metadata": {},
   "source": [
    "*Expected Output*\n",
    "\n",
    "```\n",
    "...\n",
    "Name: azure-openai-aicore\n",
    "URL: https://github.com/john/azure-openai-aicore-cap-api\n",
    "Status: RepositoryStatus.COMPLETED\n",
    "```"
   ]
  },
  {
   "cell_type": "markdown",
   "metadata": {},
   "source": [
    "### 3. Register an application"
   ]
  },
  {
   "cell_type": "code",
   "execution_count": 20,
   "metadata": {
    "scrolled": true
   },
   "outputs": [
    {
     "data": {
      "text/plain": [
       "<ai_api_client_sdk.models.base_models.BasicResponse at 0x24c7f59b910>"
      ]
     },
     "execution_count": 20,
     "metadata": {},
     "output_type": "execute_result"
    }
   ],
   "source": [
    "# WARNING: Run only once\n",
    "\n",
    "# ai_core_client.applications.create(\n",
    "#     repository_url = f\"https://github.com/{git_key['username']}/azure-openai-aicore-cap-api\",\n",
    "#     path = \"01-ai-core-azure-openai-proxy/scenario\", # Scan this folder for instruction YAML files\n",
    "#     revision = \"HEAD\"\n",
    "# )\n",
    "\n",
    "ai_core_client.applications.create(\n",
    "    repository_url = f\"https://github.wdf.sap.corp/i310472/ai-core-test\",\n",
    "    path = \"config\", # Scan this folder for instruction YAML files\n",
    "    revision = \"HEAD\"\n",
    ")"
   ]
  },
  {
   "cell_type": "code",
   "execution_count": 8,
   "metadata": {
    "scrolled": true
   },
   "outputs": [
    {
     "name": "stdout",
     "output_type": "stream",
     "text": [
      "Resources: [], Count: 0\n"
     ]
    }
   ],
   "source": [
    "# List scenarios scanned by the application created above\n",
    "response = ai_core_client.scenario.query(resource_group='default')\n",
    "print(response)\n",
    "for scenario in response.resources:\n",
    "    print(scenario.__dict__)"
   ]
  },
  {
   "cell_type": "markdown",
   "metadata": {},
   "source": [
    "*Expected Output*\n",
    "\n",
    "```\n",
    "...\n",
    "{'id': 'azure-openai-proxy', 'name': 'Azure OpenAI Proxy', 'description': 'Azure OpenAI  Proxy', 'labels': None, ...)}\n",
    "```"
   ]
  },
  {
   "cell_type": "markdown",
   "metadata": {},
   "source": [
    "### 4 Docker Hub (optional)\n",
    "#### 4.1 Register Docker secret on SAP BTP, AI Core (optional)"
   ]
  },
  {
   "cell_type": "code",
   "execution_count": null,
   "metadata": {},
   "outputs": [],
   "source": [
    "with open(docker_secret_file_path) as dsf:\n",
    "    docker_secret = json.load(dsf)\n",
    "\n",
    "\n",
    "response = ai_core_client.docker_registry_secrets.create(\n",
    "    name = docker_secret[\"name\"],\n",
    "    data = docker_secret[\"data\"]\n",
    ")\n",
    "\n",
    "print(response.__dict__)"
   ]
  },
  {
   "cell_type": "markdown",
   "metadata": {},
   "source": [
    "*Expected Output*\n",
    "\n",
    "```\n",
    "{'message': 'secret has been created'}\n",
    "```"
   ]
  },
  {
   "cell_type": "markdown",
   "metadata": {},
   "source": [
    "#### 4.2 Build and push Docker image (optional)\n",
    "```\n",
    "$ cd proxy\n",
    "$ docker build -t {DOCKER_USERNAME}/azure-openai-proxy .\n",
    "$ docker push {DOCKER_USERNAME}/azure-openai-proxy\n",
    "```\n",
    "\n",
    "THROUGH THE DOCKER CLI.  \n",
    "See: https://developers.sap.com/tutorials/ai-core-aiapi-clientsdk-workflows.html#f824a41d-efe8-4883-8238-caef4ac5f789"
   ]
  },
  {
   "cell_type": "markdown",
   "metadata": {},
   "source": [
    "### 5. Create a resource group (Optional)"
   ]
  },
  {
   "cell_type": "code",
   "execution_count": 22,
   "metadata": {},
   "outputs": [
    {
     "name": "stdout",
     "output_type": "stream",
     "text": [
      "{'resource_group_id': 'default', 'labels': None, 'status': None, 'created_at': None}\n"
     ]
    }
   ],
   "source": [
    "# For Free Tier AI Core Serice:\n",
    "#  you will not be able to create a new resource group.\n",
    "#  resource group named `default` exists in all systems.\n",
    "#  cell execution does not impact existing contents\n",
    "#\n",
    "# For paid AI Core service: \n",
    "#  IF you wish execute this step\n",
    "#  You are NOT REQUIRED TO RE-EXECUTE or Redo previous completed steps.\n",
    "#  Ensure that in the steps that follows modify with your resource group name\n",
    "\n",
    "resource_group_id = \"default\" # For free tier; `default` exsits in all systems\n",
    "# resource_group_id = \"my-openai-proxy-ns\" # For paid account you can create a namespace aka resource group\n",
    "                                              # Other steps \n",
    "\n",
    "response = ai_core_client.resource_groups.create(resource_group_id = resource_group_id)\n",
    "print(response.__dict__)"
   ]
  },
  {
   "cell_type": "markdown",
   "metadata": {},
   "source": [
    "### 6. Create configuration to serve the model"
   ]
  },
  {
   "cell_type": "code",
   "execution_count": 23,
   "metadata": {},
   "outputs": [],
   "source": [
    "with open(env_file_path) as efp:\n",
    "    env_val = json.load(efp)\n",
    "\n",
    "OPENAI_API_BASE = env_val[\"OPENAI_API_BASE\"]\n",
    "OPENAI_API_KEY = env_val[\"OPENAI_API_KEY\"]\n",
    "DOCKER_NAMESPACE = env_val[\"DOCKER_NAMESPACE\"]"
   ]
  },
  {
   "cell_type": "code",
   "execution_count": 24,
   "metadata": {},
   "outputs": [
    {
     "ename": "AIAPINotFoundException",
     "evalue": "Failed to post /configurations: Not Found, Could not create configuration because executable ai-core-test-openai for scenario ai-core-test-openai wasn't found.. \n Status Code: 404, Request ID:7e959dd4-126f-4444-a44d-f76ea1355c65",
     "output_type": "error",
     "traceback": [
      "\u001b[1;31m---------------------------------------------------------------------------\u001b[0m",
      "\u001b[1;31mAIAPINotFoundException\u001b[0m                    Traceback (most recent call last)",
      "\u001b[1;32mc:\\SAPDevelop\\ml\\azure-openai-aicore-cap-api\\01-ai-core-azure-openai-proxy\\proxy.ipynb Cell 26\u001b[0m line \u001b[0;36m2\n\u001b[0;32m      <a href='vscode-notebook-cell:/c%3A/SAPDevelop/ml/azure-openai-aicore-cap-api/01-ai-core-azure-openai-proxy/proxy.ipynb#X34sZmlsZQ%3D%3D?line=0'>1</a>\u001b[0m \u001b[39m# No modification required in below snippet\u001b[39;00m\n\u001b[1;32m----> <a href='vscode-notebook-cell:/c%3A/SAPDevelop/ml/azure-openai-aicore-cap-api/01-ai-core-azure-openai-proxy/proxy.ipynb#X34sZmlsZQ%3D%3D?line=1'>2</a>\u001b[0m response \u001b[39m=\u001b[39m ai_core_client\u001b[39m.\u001b[39;49mconfiguration\u001b[39m.\u001b[39;49mcreate(\n\u001b[0;32m      <a href='vscode-notebook-cell:/c%3A/SAPDevelop/ml/azure-openai-aicore-cap-api/01-ai-core-azure-openai-proxy/proxy.ipynb#X34sZmlsZQ%3D%3D?line=2'>3</a>\u001b[0m     name \u001b[39m=\u001b[39;49m \u001b[39m\"\u001b[39;49m\u001b[39mai-core-test-openai\u001b[39;49m\u001b[39m\"\u001b[39;49m,\n\u001b[0;32m      <a href='vscode-notebook-cell:/c%3A/SAPDevelop/ml/azure-openai-aicore-cap-api/01-ai-core-azure-openai-proxy/proxy.ipynb#X34sZmlsZQ%3D%3D?line=3'>4</a>\u001b[0m     scenario_id \u001b[39m=\u001b[39;49m \u001b[39m\"\u001b[39;49m\u001b[39mai-core-test-openai\u001b[39;49m\u001b[39m\"\u001b[39;49m,\n\u001b[0;32m      <a href='vscode-notebook-cell:/c%3A/SAPDevelop/ml/azure-openai-aicore-cap-api/01-ai-core-azure-openai-proxy/proxy.ipynb#X34sZmlsZQ%3D%3D?line=4'>5</a>\u001b[0m     executable_id \u001b[39m=\u001b[39;49m \u001b[39m\"\u001b[39;49m\u001b[39mai-core-test-openai\u001b[39;49m\u001b[39m\"\u001b[39;49m,\n\u001b[0;32m      <a href='vscode-notebook-cell:/c%3A/SAPDevelop/ml/azure-openai-aicore-cap-api/01-ai-core-azure-openai-proxy/proxy.ipynb#X34sZmlsZQ%3D%3D?line=5'>6</a>\u001b[0m     input_artifact_bindings \u001b[39m=\u001b[39;49m [],\n\u001b[0;32m      <a href='vscode-notebook-cell:/c%3A/SAPDevelop/ml/azure-openai-aicore-cap-api/01-ai-core-azure-openai-proxy/proxy.ipynb#X34sZmlsZQ%3D%3D?line=6'>7</a>\u001b[0m     parameter_bindings \u001b[39m=\u001b[39;49m [\n\u001b[0;32m      <a href='vscode-notebook-cell:/c%3A/SAPDevelop/ml/azure-openai-aicore-cap-api/01-ai-core-azure-openai-proxy/proxy.ipynb#X34sZmlsZQ%3D%3D?line=7'>8</a>\u001b[0m         ParameterBinding(key \u001b[39m=\u001b[39;49m \u001b[39m\"\u001b[39;49m\u001b[39mOPENAI_API_BASE\u001b[39;49m\u001b[39m\"\u001b[39;49m, value \u001b[39m=\u001b[39;49m OPENAI_API_BASE),\n\u001b[0;32m      <a href='vscode-notebook-cell:/c%3A/SAPDevelop/ml/azure-openai-aicore-cap-api/01-ai-core-azure-openai-proxy/proxy.ipynb#X34sZmlsZQ%3D%3D?line=8'>9</a>\u001b[0m         ParameterBinding(key \u001b[39m=\u001b[39;49m \u001b[39m\"\u001b[39;49m\u001b[39mOPENAI_API_KEY\u001b[39;49m\u001b[39m\"\u001b[39;49m, value \u001b[39m=\u001b[39;49m OPENAI_API_KEY), \n\u001b[0;32m     <a href='vscode-notebook-cell:/c%3A/SAPDevelop/ml/azure-openai-aicore-cap-api/01-ai-core-azure-openai-proxy/proxy.ipynb#X34sZmlsZQ%3D%3D?line=9'>10</a>\u001b[0m         ParameterBinding(key \u001b[39m=\u001b[39;49m \u001b[39m\"\u001b[39;49m\u001b[39mDOCKER_NAMESPACE\u001b[39;49m\u001b[39m\"\u001b[39;49m, value \u001b[39m=\u001b[39;49m DOCKER_NAMESPACE)\n\u001b[0;32m     <a href='vscode-notebook-cell:/c%3A/SAPDevelop/ml/azure-openai-aicore-cap-api/01-ai-core-azure-openai-proxy/proxy.ipynb#X34sZmlsZQ%3D%3D?line=10'>11</a>\u001b[0m     ],\n\u001b[0;32m     <a href='vscode-notebook-cell:/c%3A/SAPDevelop/ml/azure-openai-aicore-cap-api/01-ai-core-azure-openai-proxy/proxy.ipynb#X34sZmlsZQ%3D%3D?line=11'>12</a>\u001b[0m     resource_group \u001b[39m=\u001b[39;49m resource_group_id\n\u001b[0;32m     <a href='vscode-notebook-cell:/c%3A/SAPDevelop/ml/azure-openai-aicore-cap-api/01-ai-core-azure-openai-proxy/proxy.ipynb#X34sZmlsZQ%3D%3D?line=12'>13</a>\u001b[0m )\n\u001b[0;32m     <a href='vscode-notebook-cell:/c%3A/SAPDevelop/ml/azure-openai-aicore-cap-api/01-ai-core-azure-openai-proxy/proxy.ipynb#X34sZmlsZQ%3D%3D?line=15'>16</a>\u001b[0m serve_config_resp \u001b[39m=\u001b[39m response\n\u001b[0;32m     <a href='vscode-notebook-cell:/c%3A/SAPDevelop/ml/azure-openai-aicore-cap-api/01-ai-core-azure-openai-proxy/proxy.ipynb#X34sZmlsZQ%3D%3D?line=16'>17</a>\u001b[0m \u001b[39mprint\u001b[39m(response\u001b[39m.\u001b[39m\u001b[39m__dict__\u001b[39m)\n",
      "File \u001b[1;32mc:\\Users\\I310472\\AppData\\Local\\Programs\\Python\\Python310\\lib\\site-packages\\ai_api_client_sdk\\resource_clients\\configuration_client.py:57\u001b[0m, in \u001b[0;36mConfigurationClient.create\u001b[1;34m(self, name, scenario_id, executable_id, parameter_bindings, input_artifact_bindings, resource_group)\u001b[0m\n\u001b[0;32m     55\u001b[0m \u001b[39mif\u001b[39;00m input_artifact_bindings:\n\u001b[0;32m     56\u001b[0m     body[\u001b[39m'\u001b[39m\u001b[39minput_artifact_bindings\u001b[39m\u001b[39m'\u001b[39m] \u001b[39m=\u001b[39m [iab\u001b[39m.\u001b[39mto_dict() \u001b[39mfor\u001b[39;00m iab \u001b[39min\u001b[39;00m input_artifact_bindings]\n\u001b[1;32m---> 57\u001b[0m response_dict \u001b[39m=\u001b[39m \u001b[39mself\u001b[39;49m\u001b[39m.\u001b[39;49mrest_client\u001b[39m.\u001b[39;49mpost(path\u001b[39m=\u001b[39;49m\u001b[39m'\u001b[39;49m\u001b[39m/configurations\u001b[39;49m\u001b[39m'\u001b[39;49m, body\u001b[39m=\u001b[39;49mbody, resource_group\u001b[39m=\u001b[39;49mresource_group)\n\u001b[0;32m     58\u001b[0m \u001b[39mreturn\u001b[39;00m ConfigurationCreateResponse\u001b[39m.\u001b[39mfrom_dict(response_dict)\n",
      "File \u001b[1;32mc:\\Users\\I310472\\AppData\\Local\\Programs\\Python\\Python310\\lib\\site-packages\\ai_api_client_sdk\\helpers\\rest_client.py:146\u001b[0m, in \u001b[0;36mRestClient.post\u001b[1;34m(self, path, body, headers, resource_group)\u001b[0m\n\u001b[0;32m    118\u001b[0m \u001b[39mdef\u001b[39;00m \u001b[39mpost\u001b[39m(\u001b[39mself\u001b[39m, path: \u001b[39mstr\u001b[39m, body: Dict[\u001b[39mstr\u001b[39m, Union[\u001b[39mstr\u001b[39m, \u001b[39mdict\u001b[39m]] \u001b[39m=\u001b[39m \u001b[39mNone\u001b[39;00m, headers: Dict[\u001b[39mstr\u001b[39m, \u001b[39mstr\u001b[39m] \u001b[39m=\u001b[39m \u001b[39mNone\u001b[39;00m,\n\u001b[0;32m    119\u001b[0m          resource_group: \u001b[39mstr\u001b[39m \u001b[39m=\u001b[39m \u001b[39mNone\u001b[39;00m) \u001b[39m-\u001b[39m\u001b[39m>\u001b[39m \u001b[39mdict\u001b[39m:\n\u001b[0;32m    120\u001b[0m \u001b[39m    \u001b[39m\u001b[39m\"\"\"Sends a POST request to the server.\u001b[39;00m\n\u001b[0;32m    121\u001b[0m \n\u001b[0;32m    122\u001b[0m \u001b[39m    :param path: path of the endpoint the request should be sent to\u001b[39;00m\n\u001b[1;32m   (...)\u001b[0m\n\u001b[0;32m    144\u001b[0m \u001b[39m    :rtype: dict\u001b[39;00m\n\u001b[0;32m    145\u001b[0m \u001b[39m    \"\"\"\u001b[39;00m\n\u001b[1;32m--> 146\u001b[0m     \u001b[39mreturn\u001b[39;00m \u001b[39mself\u001b[39;49m\u001b[39m.\u001b[39;49m_handle_request(\u001b[39m'\u001b[39;49m\u001b[39mpost\u001b[39;49m\u001b[39m'\u001b[39;49m, path\u001b[39m=\u001b[39;49mpath, body_json\u001b[39m=\u001b[39;49mbody, headers\u001b[39m=\u001b[39;49mheaders, resource_group\u001b[39m=\u001b[39;49mresource_group)\n",
      "File \u001b[1;32mc:\\Users\\I310472\\AppData\\Local\\Programs\\Python\\Python310\\lib\\site-packages\\ai_api_client_sdk\\helpers\\rest_client.py:103\u001b[0m, in \u001b[0;36mRestClient._handle_request\u001b[1;34m(self, method, path, params, body_json, headers, resource_group)\u001b[0m\n\u001b[0;32m    100\u001b[0m     \u001b[39mraise\u001b[39;00m AIAPIInvalidRequestException(description\u001b[39m=\u001b[39merror_description, error_message\u001b[39m=\u001b[39merror_message,\n\u001b[0;32m    101\u001b[0m                                        error_code\u001b[39m=\u001b[39merror_code, request_id\u001b[39m=\u001b[39mrequest_id, details\u001b[39m=\u001b[39merror_details)\n\u001b[0;32m    102\u001b[0m \u001b[39melif\u001b[39;00m status_code \u001b[39m==\u001b[39m \u001b[39m404\u001b[39m:\n\u001b[1;32m--> 103\u001b[0m     \u001b[39mraise\u001b[39;00m AIAPINotFoundException(description\u001b[39m=\u001b[39merror_description, error_message\u001b[39m=\u001b[39merror_message,\n\u001b[0;32m    104\u001b[0m                                  error_code\u001b[39m=\u001b[39merror_code, request_id\u001b[39m=\u001b[39mrequest_id, details\u001b[39m=\u001b[39merror_details)\n\u001b[0;32m    105\u001b[0m \u001b[39melif\u001b[39;00m status_code \u001b[39m==\u001b[39m \u001b[39m412\u001b[39m:\n\u001b[0;32m    106\u001b[0m     \u001b[39mraise\u001b[39;00m AIAPIPreconditionFailedException(description\u001b[39m=\u001b[39merror_description, error_message\u001b[39m=\u001b[39merror_message,\n\u001b[0;32m    107\u001b[0m                                            error_code\u001b[39m=\u001b[39merror_code, request_id\u001b[39m=\u001b[39mrequest_id,\n\u001b[0;32m    108\u001b[0m                                            details\u001b[39m=\u001b[39merror_details)\n",
      "\u001b[1;31mAIAPINotFoundException\u001b[0m: Failed to post /configurations: Not Found, Could not create configuration because executable ai-core-test-openai for scenario ai-core-test-openai wasn't found.. \n Status Code: 404, Request ID:7e959dd4-126f-4444-a44d-f76ea1355c65"
     ]
    }
   ],
   "source": [
    "# No modification required in below snippet\n",
    "response = ai_core_client.configuration.create(\n",
    "    name = \"ai-core-test-openai\",\n",
    "    scenario_id = \"ai-core-test-openai\",\n",
    "    executable_id = \"ai-core-test-openai\",\n",
    "    input_artifact_bindings = [],\n",
    "    parameter_bindings = [\n",
    "        ParameterBinding(key = \"OPENAI_API_BASE\", value = OPENAI_API_BASE),\n",
    "        ParameterBinding(key = \"OPENAI_API_KEY\", value = OPENAI_API_KEY), \n",
    "        ParameterBinding(key = \"DOCKER_NAMESPACE\", value = DOCKER_NAMESPACE)\n",
    "    ],\n",
    "    resource_group = resource_group_id\n",
    ")\n",
    "\n",
    "\n",
    "serve_config_resp = response\n",
    "print(response.__dict__)"
   ]
  },
  {
   "cell_type": "markdown",
   "metadata": {},
   "source": [
    "### 7. Actually serve the proxy"
   ]
  },
  {
   "cell_type": "code",
   "execution_count": null,
   "metadata": {},
   "outputs": [],
   "source": [
    "# Start proxy\n",
    "response = ai_core_client.deployment.create(\n",
    "    configuration_id=serve_config_resp.id,\n",
    "    resource_group=resource_group_id\n",
    ")\n",
    "\n",
    "deployment_resp = response\n",
    "print(response.__dict__)"
   ]
  },
  {
   "cell_type": "code",
   "execution_count": null,
   "metadata": {},
   "outputs": [],
   "source": [
    "# Poll deployment status.\n",
    "# No modification required in below snipet\n",
    "status = None\n",
    "while status != Status.RUNNING and status != Status.DEAD:\n",
    "    time.sleep(5)\n",
    "    clear_output(wait=True)\n",
    "    # Get Status\n",
    "    #\n",
    "    deployment = response = ai_core_client.deployment.get(\n",
    "        deployment_id=deployment_resp.id,\n",
    "        resource_group=resource_group_id\n",
    "    )\n",
    "    status = deployment.status\n",
    "    print(\"...... deployment status ......\", flush=True)\n",
    "    print(deployment.status)\n",
    "    pprint(deployment.status_details)\n",
    "\n",
    "    if deployment.status == Status.RUNNING:\n",
    "        print(f\"Deployment with {deployment_resp.id} complete!\")\n",
    "\n",
    "# Allow some time for deployment URL to get ready.\n",
    "time.sleep(10)"
   ]
  },
  {
   "cell_type": "markdown",
   "metadata": {},
   "source": [
    "### 8. Do an inference request"
   ]
  },
  {
   "cell_type": "code",
   "execution_count": null,
   "metadata": {},
   "outputs": [],
   "source": [
    "endpoint = f\"{deployment.deployment_url}/v2/envs\"\n",
    "headers = {\"Authorization\": ai_core_client.rest_client.get_token(),\n",
    "           \"ai-resource-group\": resource_group_id,\n",
    "           \"Content-Type\": \"application/json\"}\n",
    "response = requests.get(endpoint, headers=headers)\n",
    "\n",
    "legacy_davinci = False # set True if you have a davinci model deployment on Azure OpenAI Services\n",
    "if legacy_davinci:\n",
    "    body = {\n",
    "        \"engine\": \"<YOUR ENGINE>\", # The deployment name you chose when you deployed the ChatGPT or GPT-4 model.\n",
    "                                   #   For information of deployment creation and name Refer article https://learn.microsoft.com/en-us/azure/cognitive-services/openai/how-to/create-resource?pivots=web-portal\n",
    "        \"prompt\": \"Classify the following news article into 1 of the following categories: categories: [Business, Tech, Politics, Sport, Entertainment]\\n\\nnews article: Donna Steffensen Is Cooking Up a New Kind of Perfection. The Internet’s most beloved cooking guru has a buzzy new book and a fresh new perspective:\\n\\nClassified category:\",\n",
    "        \"max_tokens\": 60,\n",
    "        \"temperature\": 0,\n",
    "        \"frequency_penalty\": 0,\n",
    "        \"presence_penalty\": 0,\n",
    "        \"top_p\": 1,\n",
    "        \"best_of\": 1,\n",
    "        \"stop\": \"null\"\n",
    "    }\n",
    "    endpoint = f\"{deployment.deployment_url}/v2/completion\"\n",
    "else:\n",
    "    body = {\n",
    "        \"engine\": \"<YOUR ENGINE>\", # include your engine from a deployment of an Azure OpenAI services model\n",
    "        \"prompt\": \"Classify the following news article into 1 of the following categories: categories: [Business, Tech, Politics, Sport, Entertainment]\\n\\nnews article: Donna Steffensen Is Cooking Up a New Kind of Perfection. The Internet’s most beloved cooking guru has a buzzy new book and a fresh new perspective:\\n\\nClassified category:\",\n",
    "        \"max_tokens\": 60,\n",
    "        \"temperature\": 0,\n",
    "        \"frequency_penalty\": 0,\n",
    "        \"presence_penalty\": 0,\n",
    "        \"stop\": \"null\"\n",
    "    }\n",
    "    endpoint = f\"{deployment.deployment_url}/v2/chat-completion\"\n",
    "\n",
    "headers = {\"Authorization\": ai_core_client.rest_client.get_token(),\n",
    "           \"ai-resource-group\": resource_group_id,\n",
    "           \"Content-Type\": \"application/json\"}\n",
    "response = requests.post(endpoint, headers=headers, json=body)\n",
    "\n",
    "print(\"Inference result:\", response.json())\n",
    "pprint(vars(response))"
   ]
  },
  {
   "cell_type": "markdown",
   "metadata": {},
   "source": [
    "### 9. Kill deployment (optional)"
   ]
  },
  {
   "cell_type": "code",
   "execution_count": null,
   "metadata": {},
   "outputs": [],
   "source": [
    "delete_resp = ai_core_client.deployment.modify(deployment_resp.id,\n",
    "                                                 target_status=Status.STOPPED,\n",
    "                                              resource_group=resource_group_id)\n",
    "status = None\n",
    "while status != Status.STOPPED:\n",
    "    time.sleep(5)\n",
    "    clear_output(wait=True)\n",
    "    deployment = ai_core_client.deployment.get(deployment_resp.id, resource_group=resource_group_id)\n",
    "    status = deployment.status\n",
    "    print(\"...... killing deployment ......\", flush=True)\n",
    "    print(f\"Deployment status: {deployment.status}\")"
   ]
  }
 ],
 "metadata": {
  "kernelspec": {
   "display_name": "Python 3 (ipykernel)",
   "language": "python",
   "name": "python3"
  },
  "language_info": {
   "codemirror_mode": {
    "name": "ipython",
    "version": 3
   },
   "file_extension": ".py",
   "mimetype": "text/x-python",
   "name": "python",
   "nbconvert_exporter": "python",
   "pygments_lexer": "ipython3",
   "version": "3.10.0"
  },
  "vscode": {
   "interpreter": {
    "hash": "c30f2af5f468e7f5b45bcc30fca5f4886c90d54777aed916ed5f6294dfb24bf2"
   }
  }
 },
 "nbformat": 4,
 "nbformat_minor": 2
}
